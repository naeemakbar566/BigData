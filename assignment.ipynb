{
  "nbformat": 4,
  "nbformat_minor": 0,
  "metadata": {
    "colab": {
      "provenance": [],
      "authorship_tag": "ABX9TyNjYnO5tbFRShWoWE/njya5",
      "include_colab_link": true
    },
    "kernelspec": {
      "name": "python3",
      "display_name": "Python 3"
    },
    "language_info": {
      "name": "python"
    }
  },
  "cells": [
    {
      "cell_type": "markdown",
      "metadata": {
        "id": "view-in-github",
        "colab_type": "text"
      },
      "source": [
        "<a href=\"https://colab.research.google.com/github/naeemakbar566/BigData/blob/main/assignment.ipynb\" target=\"_parent\"><img src=\"https://colab.research.google.com/assets/colab-badge.svg\" alt=\"Open In Colab\"/></a>"
      ]
    },
    {
      "cell_type": "code",
      "execution_count": null,
      "metadata": {
        "id": "rxHkkWc85twn"
      },
      "outputs": [],
      "source": [
        "cities_list=[\"karachi\",\"lahore\",\"islamabad\",\"rawalpindi\",\"faisalabad\",\"peshwer\",\"queeta\",\"multan\",\"sailkot\",\"gujranawala\",\"hyderaabad\",\"abbottaabad\",\"bahawalpur\",\"sukkur\",\"sargodha\"]"
      ]
    },
    {
      "cell_type": "code",
      "source": [
        "import random\n",
        "\n",
        "cities = []\n",
        "\n",
        "for x in range(45):\n",
        "  cities.append(random.choice(cities_list))\n",
        "\n",
        "print(cities)\n"
      ],
      "metadata": {
        "colab": {
          "base_uri": "https://localhost:8080/"
        },
        "id": "Ul4H4GAe8PLZ",
        "outputId": "5b160719-139f-4861-8936-7e3acf546d1b"
      },
      "execution_count": null,
      "outputs": [
        {
          "output_type": "stream",
          "name": "stdout",
          "text": [
            "['sargodha', 'islamabad', 'lahore', 'sailkot', 'multan', 'abbottaabad', 'bahawalpur', 'abbottaabad', 'sargodha', 'lahore', 'gujranawala', 'sukkur', 'sailkot', 'queeta', 'faisalabad', 'queeta', 'abbottaabad', 'hyderaabad', 'karachi', 'lahore', 'gujranawala', 'lahore', 'multan', 'sukkur', 'peshwer', 'rawalpindi', 'queeta', 'lahore', 'queeta', 'peshwer', 'peshwer', 'lahore', 'sargodha', 'sukkur', 'faisalabad', 'sailkot', 'sailkot', 'bahawalpur', 'bahawalpur', 'gujranawala', 'sargodha', 'abbottaabad', 'gujranawala', 'islamabad', 'karachi']\n"
          ]
        }
      ]
    },
    {
      "cell_type": "code",
      "source": [
        "import random\n",
        "cities_sales = []\n",
        "for city in cities:\n",
        "  cities_sales.append([city, random.randint(1000, 5000)])\n",
        "print(cities_sales)"
      ],
      "metadata": {
        "colab": {
          "base_uri": "https://localhost:8080/"
        },
        "id": "DzoIaqg88PTP",
        "outputId": "512edd0a-29f6-43be-b67c-e2c392574689"
      },
      "execution_count": null,
      "outputs": [
        {
          "output_type": "stream",
          "name": "stdout",
          "text": [
            "[['sargodha', 1988], ['islamabad', 3078], ['lahore', 4203], ['sailkot', 3529], ['multan', 2782], ['abbottaabad', 1292], ['bahawalpur', 1485], ['abbottaabad', 2780], ['sargodha', 3428], ['lahore', 2340], ['gujranawala', 1998], ['sukkur', 4582], ['sailkot', 1737], ['queeta', 2040], ['faisalabad', 2807], ['queeta', 4424], ['abbottaabad', 3860], ['hyderaabad', 4360], ['karachi', 3270], ['lahore', 3289], ['gujranawala', 1635], ['lahore', 1217], ['multan', 2378], ['sukkur', 4134], ['peshwer', 4185], ['rawalpindi', 1308], ['queeta', 2335], ['lahore', 1469], ['queeta', 1091], ['peshwer', 3401], ['peshwer', 1734], ['lahore', 2239], ['sargodha', 2304], ['sukkur', 1398], ['faisalabad', 2514], ['sailkot', 3395], ['sailkot', 3368], ['bahawalpur', 1503], ['bahawalpur', 1488], ['gujranawala', 4117], ['sargodha', 4873], ['abbottaabad', 3243], ['gujranawala', 3509], ['islamabad', 3722], ['karachi', 4146]]\n"
          ]
        }
      ]
    },
    {
      "cell_type": "code",
      "source": [
        "aggregated_sales = []\n",
        "for city, sales in cities_sales:\n",
        "  found = False\n",
        "  for i in range(len(aggregated_sales)):\n",
        "    if aggregated_sales[i][0]== city:\n",
        "      aggregated_sales[i][1] += sales\n",
        "      found=True\n",
        "      break\n",
        "  if not found:\n",
        "    aggregated_sales.append([city,sales])\n",
        "aggregated_sales\n",
        "\n"
      ],
      "metadata": {
        "colab": {
          "base_uri": "https://localhost:8080/"
        },
        "id": "BMfI29cRSe4N",
        "outputId": "dadd5594-7957-41d0-8b90-cd00d14c0fe2"
      },
      "execution_count": null,
      "outputs": [
        {
          "output_type": "execute_result",
          "data": {
            "text/plain": [
              "[['sargodha', 12593],\n",
              " ['islamabad', 6800],\n",
              " ['lahore', 14757],\n",
              " ['sailkot', 12029],\n",
              " ['multan', 5160],\n",
              " ['abbottaabad', 11175],\n",
              " ['bahawalpur', 4476],\n",
              " ['gujranawala', 11259],\n",
              " ['sukkur', 10114],\n",
              " ['queeta', 9890],\n",
              " ['faisalabad', 5321],\n",
              " ['hyderaabad', 4360],\n",
              " ['karachi', 7416],\n",
              " ['peshwer', 9320],\n",
              " ['rawalpindi', 1308]]"
            ]
          },
          "metadata": {},
          "execution_count": 18
        }
      ]
    },
    {
      "cell_type": "code",
      "source": [
        "aggregated_sales.sort(key=lambda x: x[1], reverse=True)\n",
        "aggregated_sales"
      ],
      "metadata": {
        "colab": {
          "base_uri": "https://localhost:8080/"
        },
        "id": "us4tEW7lZTQn",
        "outputId": "905156b3-a198-47f3-871e-88724fe1d5b1"
      },
      "execution_count": null,
      "outputs": [
        {
          "output_type": "execute_result",
          "data": {
            "text/plain": [
              "[['lahore', 14757],\n",
              " ['sargodha', 12593],\n",
              " ['sailkot', 12029],\n",
              " ['gujranawala', 11259],\n",
              " ['abbottaabad', 11175],\n",
              " ['sukkur', 10114],\n",
              " ['queeta', 9890],\n",
              " ['peshwer', 9320],\n",
              " ['karachi', 7416],\n",
              " ['islamabad', 6800],\n",
              " ['faisalabad', 5321],\n",
              " ['multan', 5160],\n",
              " ['bahawalpur', 4476],\n",
              " ['hyderaabad', 4360],\n",
              " ['rawalpindi', 1308]]"
            ]
          },
          "metadata": {},
          "execution_count": 23
        }
      ]
    }
  ]
}
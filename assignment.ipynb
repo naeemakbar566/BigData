{
  "nbformat": 4,
  "nbformat_minor": 0,
  "metadata": {
    "colab": {
      "provenance": [],
      "authorship_tag": "ABX9TyMsquFMkG2X86zWSOWObkhO",
      "include_colab_link": true
    },
    "kernelspec": {
      "name": "python3",
      "display_name": "Python 3"
    },
    "language_info": {
      "name": "python"
    }
  },
  "cells": [
    {
      "cell_type": "markdown",
      "metadata": {
        "id": "view-in-github",
        "colab_type": "text"
      },
      "source": [
        "<a href=\"https://colab.research.google.com/github/naeemakbar566/BigData/blob/main/assignment.ipynb\" target=\"_parent\"><img src=\"https://colab.research.google.com/assets/colab-badge.svg\" alt=\"Open In Colab\"/></a>"
      ]
    },
    {
      "cell_type": "code",
      "execution_count": 16,
      "metadata": {
        "id": "rxHkkWc85twn"
      },
      "outputs": [],
      "source": [
        "cities_list=[\"karachi\",\"lahore\",\"islamabad\",\"rawalpindi\",\"faisalabad\",\"peshwer\",\"queeta\",\"multan\",\"sailkot\",\"gujranawala\",\"hyderaabad\",\"abbottaabad\",\"bahawalpur\",\"sukkur\",\"sargodha\"]"
      ]
    },
    {
      "cell_type": "code",
      "source": [
        "import random\n",
        "\n",
        "cities = []\n",
        "\n",
        "for x in range(45):\n",
        "  cities.append(random.choice(cities_list))\n",
        "\n",
        "print(cities)\n"
      ],
      "metadata": {
        "colab": {
          "base_uri": "https://localhost:8080/"
        },
        "id": "Ul4H4GAe8PLZ",
        "outputId": "8d957c02-0f94-44e1-8291-e65a4eec689a"
      },
      "execution_count": 34,
      "outputs": [
        {
          "output_type": "stream",
          "name": "stdout",
          "text": [
            "['bahawalpur', 'sukkur', 'lahore', 'abbottaabad', 'abbottaabad', 'lahore', 'sailkot', 'abbottaabad', 'karachi', 'sailkot', 'sailkot', 'gujranawala', 'sargodha', 'sukkur', 'lahore', 'bahawalpur', 'sargodha', 'karachi', 'hyderaabad', 'multan', 'multan', 'sargodha', 'lahore', 'rawalpindi', 'multan', 'sukkur', 'gujranawala', 'queeta', 'sailkot', 'sargodha', 'lahore', 'faisalabad', 'sargodha', 'karachi', 'islamabad', 'sargodha', 'islamabad', 'sukkur', 'karachi', 'lahore', 'queeta', 'islamabad', 'bahawalpur', 'sukkur', 'karachi']\n"
          ]
        }
      ]
    },
    {
      "cell_type": "code",
      "source": [
        "import random\n",
        "cities_sales = []\n",
        "for city in cities:\n",
        "  cities_sales.append([city, random.randint(1000, 5000)])\n",
        "print(cities_sales)"
      ],
      "metadata": {
        "colab": {
          "base_uri": "https://localhost:8080/"
        },
        "id": "DzoIaqg88PTP",
        "outputId": "86550196-d6fc-49bb-b364-d24fdd835761"
      },
      "execution_count": 35,
      "outputs": [
        {
          "output_type": "stream",
          "name": "stdout",
          "text": [
            "[['bahawalpur', 2493], ['sukkur', 2059], ['lahore', 3852], ['abbottaabad', 2003], ['abbottaabad', 3831], ['lahore', 2907], ['sailkot', 1408], ['abbottaabad', 2122], ['karachi', 3344], ['sailkot', 3259], ['sailkot', 4998], ['gujranawala', 3669], ['sargodha', 1387], ['sukkur', 3566], ['lahore', 1674], ['bahawalpur', 4810], ['sargodha', 1543], ['karachi', 4150], ['hyderaabad', 2266], ['multan', 1945], ['multan', 2821], ['sargodha', 2476], ['lahore', 3932], ['rawalpindi', 3307], ['multan', 4142], ['sukkur', 1073], ['gujranawala', 4710], ['queeta', 4029], ['sailkot', 2995], ['sargodha', 4438], ['lahore', 2279], ['faisalabad', 3847], ['sargodha', 2083], ['karachi', 1021], ['islamabad', 2715], ['sargodha', 4757], ['islamabad', 4720], ['sukkur', 3450], ['karachi', 4228], ['lahore', 1910], ['queeta', 3203], ['islamabad', 4653], ['bahawalpur', 2077], ['sukkur', 3119], ['karachi', 4311]]\n"
          ]
        }
      ]
    }
  ]
}